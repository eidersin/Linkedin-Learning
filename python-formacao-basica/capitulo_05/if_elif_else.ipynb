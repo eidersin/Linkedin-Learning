{
 "cells": [
  {
   "attachments": {},
   "cell_type": "markdown",
   "metadata": {},
   "source": [
    "- Crie uma lista com 30 dados do tipo numérico\n"
   ]
  },
  {
   "cell_type": "code",
   "execution_count": 40,
   "metadata": {},
   "outputs": [
    {
     "name": "stdout",
     "output_type": "stream",
     "text": [
      "0\n",
      "1\n",
      "2\n",
      "3\n",
      "4\n",
      "5\n",
      "6\n",
      "7\n",
      "8\n",
      "9\n",
      "10\n",
      "11\n",
      "12\n",
      "13\n",
      "14\n",
      "15\n",
      "16\n",
      "17\n",
      "18\n",
      "19\n",
      "20\n",
      "21\n",
      "22\n",
      "23\n",
      "24\n",
      "25\n",
      "26\n",
      "27\n",
      "28\n",
      "29\n"
     ]
    }
   ],
   "source": [
    "for lista in range(30):\n",
    "    print(lista)\n",
    "    pass"
   ]
  },
  {
   "attachments": {},
   "cell_type": "markdown",
   "metadata": {},
   "source": [
    "- Dentro de um for loop, crie uma estrutura condicional que imprima na tela o número, caso ele seja maior do que 20. Se o número for 20, imprima 'Esse número é igual a 20.’ e se for maior do que 20, imprima ‘Esse número é maior do que 20.’\n"
   ]
  },
  {
   "cell_type": "code",
   "execution_count": 41,
   "metadata": {},
   "outputs": [
    {
     "name": "stdout",
     "output_type": "stream",
     "text": [
      "0 print(Esse número é menor a 20.\n",
      "1 print(Esse número é menor a 20.\n",
      "2 print(Esse número é menor a 20.\n",
      "3 print(Esse número é menor a 20.\n",
      "4 print(Esse número é menor a 20.\n",
      "5 print(Esse número é menor a 20.\n",
      "6 print(Esse número é menor a 20.\n",
      "7 print(Esse número é menor a 20.\n",
      "8 print(Esse número é menor a 20.\n",
      "9 print(Esse número é menor a 20.\n",
      "10 print(Esse número é menor a 20.\n",
      "11 print(Esse número é menor a 20.\n",
      "12 print(Esse número é menor a 20.\n",
      "13 print(Esse número é menor a 20.\n",
      "14 print(Esse número é menor a 20.\n",
      "15 print(Esse número é menor a 20.\n",
      "16 print(Esse número é menor a 20.\n",
      "17 print(Esse número é menor a 20.\n",
      "18 print(Esse número é menor a 20.\n",
      "19 print(Esse número é menor a 20.\n",
      "20 Esse número é igual a 20.\n",
      "21 Esse número é maior que 20.\n",
      "22 Esse número é maior que 20.\n",
      "23 Esse número é maior que 20.\n",
      "24 Esse número é maior que 20.\n",
      "25 Esse número é maior que 20.\n",
      "26 Esse número é maior que 20.\n",
      "27 Esse número é maior que 20.\n",
      "28 Esse número é maior que 20.\n",
      "29 Esse número é maior que 20.\n"
     ]
    }
   ],
   "source": [
    "for lista in range(30):\n",
    "    if lista < 20:\n",
    "        print(lista, 'print(Esse número é menor a 20.')\n",
    "    elif lista == 20:\n",
    "        print(lista,'Esse número é igual a 20.')\n",
    "    else:\n",
    "        print(lista,'Esse número é maior que 20.')"
   ]
  },
  {
   "attachments": {},
   "cell_type": "markdown",
   "metadata": {},
   "source": [
    "- Crie as seguintes variáveis contendo listas vazias: ate_12, entre_13_e_20, maior_21"
   ]
  },
  {
   "cell_type": "code",
   "execution_count": 42,
   "metadata": {},
   "outputs": [],
   "source": [
    "idades = range(51)"
   ]
  },
  {
   "cell_type": "code",
   "execution_count": 43,
   "metadata": {},
   "outputs": [],
   "source": [
    "ate_12 = []\n",
    "entre_13_e_20 = []\n",
    "maior_21 = []"
   ]
  },
  {
   "attachments": {},
   "cell_type": "markdown",
   "metadata": {},
   "source": [
    "- Dentro de um for loop, crie uma estrutura condicional que distribua em cada lista os números seguindo as condições abaixo: \n",
    "1. se o número for menor do que 12, armazene-o na lista ate_12\n",
    "2. se o número estiver entre 13 e 20, amazene-o na lista entre_13_e_20\n",
    "3. se o número for maior do 21, armazene-o na lista maior_21\n",
    "\n"
   ]
  },
  {
   "cell_type": "code",
   "execution_count": 44,
   "metadata": {},
   "outputs": [],
   "source": [
    "for idade in idades:\n",
    "    if idade <= 12:\n",
    "        ate_12.append(idade)\n",
    "    elif idade >= 13 and idade <= 20:\n",
    "        entre_13_e_20.append(idade)\n",
    "    else:\n",
    "        maior_21.append(idade)"
   ]
  },
  {
   "cell_type": "code",
   "execution_count": 45,
   "metadata": {},
   "outputs": [
    {
     "name": "stdout",
     "output_type": "stream",
     "text": [
      "[0, 1, 2, 3, 4, 5, 6, 7, 8, 9, 10, 11, 12]\n",
      "[13, 14, 15, 16, 17, 18, 19, 20]\n",
      "[21, 22, 23, 24, 25, 26, 27, 28, 29, 30, 31, 32, 33, 34, 35, 36, 37, 38, 39, 40, 41, 42, 43, 44, 45, 46, 47, 48, 49, 50]\n"
     ]
    }
   ],
   "source": [
    "print(ate_12)\n",
    "print(entre_13_e_20)\n",
    "print(maior_21)"
   ]
  },
  {
   "cell_type": "code",
   "execution_count": null,
   "metadata": {},
   "outputs": [],
   "source": []
  }
 ],
 "metadata": {
  "kernelspec": {
   "display_name": "Python 3",
   "language": "python",
   "name": "python3"
  },
  "language_info": {
   "codemirror_mode": {
    "name": "ipython",
    "version": 3
   },
   "file_extension": ".py",
   "mimetype": "text/x-python",
   "name": "python",
   "nbconvert_exporter": "python",
   "pygments_lexer": "ipython3",
   "version": "3.12.1"
  },
  "orig_nbformat": 4,
  "vscode": {
   "interpreter": {
    "hash": "916dbcbb3f70747c44a77c7bcd40155683ae19c65e1c03b4aa3499c5328201f1"
   }
  }
 },
 "nbformat": 4,
 "nbformat_minor": 2
}
